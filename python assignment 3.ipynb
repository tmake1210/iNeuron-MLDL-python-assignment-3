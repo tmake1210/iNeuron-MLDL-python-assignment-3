{
 "cells": [
  {
   "cell_type": "code",
   "execution_count": null,
   "id": "8a6eafe0",
   "metadata": {},
   "outputs": [],
   "source": [
    "1.1 "
   ]
  },
  {
   "cell_type": "code",
   "execution_count": 8,
   "id": "3073b1b9",
   "metadata": {},
   "outputs": [],
   "source": [
    "Q = [4,5,6,9,8,7,7,4]"
   ]
  },
  {
   "cell_type": "code",
   "execution_count": null,
   "id": "ea9ac89a",
   "metadata": {},
   "outputs": [],
   "source": [
    "Using the aggregation function to find the summation of integers in list Q"
   ]
  },
  {
   "cell_type": "code",
   "execution_count": 9,
   "id": "17edb052",
   "metadata": {},
   "outputs": [],
   "source": [
    "from functools import reduce"
   ]
  },
  {
   "cell_type": "code",
   "execution_count": 12,
   "id": "086b22b5",
   "metadata": {},
   "outputs": [
    {
     "data": {
      "text/plain": [
       "50"
      ]
     },
     "execution_count": 12,
     "metadata": {},
     "output_type": "execute_result"
    }
   ],
   "source": [
    "reduce(lambda x,y : x+y, Q)"
   ]
  },
  {
   "cell_type": "code",
   "execution_count": null,
   "id": "cb2773c9",
   "metadata": {},
   "outputs": [],
   "source": [
    "1.2"
   ]
  },
  {
   "cell_type": "code",
   "execution_count": 47,
   "id": "18a2258c",
   "metadata": {},
   "outputs": [],
   "source": [
    "g = [2,6,4,5,9, 'nlp', [5,6,7,8], 'computer vision', 2.3,4.5,3.6, 'One neuron']"
   ]
  },
  {
   "cell_type": "code",
   "execution_count": null,
   "id": "d10ed6f0",
   "metadata": {},
   "outputs": [],
   "source": [
    "Filter out all the strings in list g"
   ]
  },
  {
   "cell_type": "code",
   "execution_count": 48,
   "id": "ab58e91f",
   "metadata": {},
   "outputs": [],
   "source": [
    "def gen():\n",
    "    for i in g:\n",
    "        if type(i) == str :\n",
    "            print(i)"
   ]
  },
  {
   "cell_type": "code",
   "execution_count": 52,
   "id": "e3434ae4",
   "metadata": {},
   "outputs": [
    {
     "name": "stdout",
     "output_type": "stream",
     "text": [
      "nlp\n",
      "computer vision\n",
      "One neuron\n"
     ]
    },
    {
     "data": {
      "text/plain": [
       "<filter at 0x1b78e6e30a0>"
      ]
     },
     "execution_count": 52,
     "metadata": {},
     "output_type": "execute_result"
    }
   ],
   "source": [
    "filter(gen(), g)"
   ]
  },
  {
   "cell_type": "code",
   "execution_count": null,
   "id": "ff08c3cb",
   "metadata": {},
   "outputs": [],
   "source": [
    "2."
   ]
  },
  {
   "cell_type": "code",
   "execution_count": 54,
   "id": "2e782f82",
   "metadata": {},
   "outputs": [],
   "source": [
    "R = ['x','xx','xxx','xxxx','y','yy','yyy','yyyy','z','zz','zzz','zzzz']"
   ]
  },
  {
   "cell_type": "code",
   "execution_count": 56,
   "id": "b3760be8",
   "metadata": {},
   "outputs": [
    {
     "data": {
      "text/plain": [
       "['x', 'xx', 'xxx', 'xxxx', 'y', 'yy', 'yyy', 'yyyy', 'z', 'zz', 'zzz', 'zzzz']"
      ]
     },
     "execution_count": 56,
     "metadata": {},
     "output_type": "execute_result"
    }
   ],
   "source": [
    "[i  for i in R]"
   ]
  },
  {
   "cell_type": "code",
   "execution_count": 57,
   "id": "6da3ea04",
   "metadata": {},
   "outputs": [],
   "source": [
    "S = ['x','y','z','xx','yy','zz','xxx','yyy','zzz','xxxx','yyyy','zzzz']"
   ]
  },
  {
   "cell_type": "code",
   "execution_count": 58,
   "id": "7599fa47",
   "metadata": {},
   "outputs": [
    {
     "data": {
      "text/plain": [
       "['x', 'y', 'z', 'xx', 'yy', 'zz', 'xxx', 'yyy', 'zzz', 'xxxx', 'yyyy', 'zzzz']"
      ]
     },
     "execution_count": 58,
     "metadata": {},
     "output_type": "execute_result"
    }
   ],
   "source": [
    "[h for h in S]"
   ]
  },
  {
   "cell_type": "code",
   "execution_count": 60,
   "id": "b17cc97a",
   "metadata": {},
   "outputs": [],
   "source": [
    "T = [[2],[3],[4],[3],[4],[5],[4],[5],[6]],[[2,3,4,5],[3,4,5,6],[4,5,6,7],[5,6,7,8]]"
   ]
  },
  {
   "cell_type": "code",
   "execution_count": 66,
   "id": "605839db",
   "metadata": {},
   "outputs": [
    {
     "data": {
      "text/plain": [
       "[[2],\n",
       " [3],\n",
       " [4],\n",
       " [3],\n",
       " [4],\n",
       " [5],\n",
       " [4],\n",
       " [5],\n",
       " [6],\n",
       " [2, 3, 4, 5],\n",
       " [3, 4, 5, 6],\n",
       " [4, 5, 6, 7],\n",
       " [5, 6, 7, 8]]"
      ]
     },
     "execution_count": 66,
     "metadata": {},
     "output_type": "execute_result"
    }
   ],
   "source": [
    "[i for p in T for i in p]"
   ]
  },
  {
   "cell_type": "code",
   "execution_count": 67,
   "id": "213d4c10",
   "metadata": {},
   "outputs": [],
   "source": [
    "W = [(1,1),(2,1),(3,1),(1,2),(2,2),(3,2),(1,3),(2,3),(3,3)]"
   ]
  },
  {
   "cell_type": "code",
   "execution_count": 68,
   "id": "2c60a056",
   "metadata": {},
   "outputs": [
    {
     "data": {
      "text/plain": [
       "[(1, 1), (2, 1), (3, 1), (1, 2), (2, 2), (3, 2), (1, 3), (2, 3), (3, 3)]"
      ]
     },
     "execution_count": 68,
     "metadata": {},
     "output_type": "execute_result"
    }
   ],
   "source": [
    "[f for f in W]"
   ]
  },
  {
   "cell_type": "code",
   "execution_count": null,
   "id": "398d7475",
   "metadata": {},
   "outputs": [],
   "source": []
  }
 ],
 "metadata": {
  "kernelspec": {
   "display_name": "Python 3",
   "language": "python",
   "name": "python3"
  },
  "language_info": {
   "codemirror_mode": {
    "name": "ipython",
    "version": 3
   },
   "file_extension": ".py",
   "mimetype": "text/x-python",
   "name": "python",
   "nbconvert_exporter": "python",
   "pygments_lexer": "ipython3",
   "version": "3.8.8"
  }
 },
 "nbformat": 4,
 "nbformat_minor": 5
}
